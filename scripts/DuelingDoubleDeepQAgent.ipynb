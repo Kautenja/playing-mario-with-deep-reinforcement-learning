{
 "cells": [
  {
   "cell_type": "code",
   "execution_count": null,
   "metadata": {},
   "outputs": [],
   "source": [
    "import os\n",
    "import gym\n",
    "from keras import backend as K\n",
    "from _base import build_env, experiment_dir\n",
    "from _top_level import top_level\n",
    "top_level()"
   ]
  },
  {
   "cell_type": "code",
   "execution_count": null,
   "metadata": {},
   "outputs": [],
   "source": [
    "from src.agents import DeepQAgent\n",
    "from src.utils import BaseCallback\n",
    "from src.utils import seed"
   ]
  },
  {
   "cell_type": "code",
   "execution_count": null,
   "metadata": {},
   "outputs": [],
   "source": [
    "ENV_ID = 'SuperMarioBros-1-1-v0'"
   ]
  },
  {
   "cell_type": "code",
   "execution_count": null,
   "metadata": {},
   "outputs": [],
   "source": [
    "# set the random number seed\n",
    "seed(1)\n",
    "# make the output directory \n",
    "OUTPUT_DIR = experiment_dir('../results', ENV_ID, DeepQAgent.__name__)\n",
    "OUTPUT_DIR"
   ]
  },
  {
   "cell_type": "code",
   "execution_count": null,
   "metadata": {},
   "outputs": [],
   "source": [
    "# create a file to save the weights to\n",
    "WEIGHTS_FILE = os.path.join(OUTPUT_DIR, 'weights.h5')"
   ]
  },
  {
   "cell_type": "code",
   "execution_count": null,
   "metadata": {},
   "outputs": [],
   "source": [
    "# create an agent\n",
    "agent = DeepQAgent(build_env(ENV_ID))\n",
    "agent"
   ]
  },
  {
   "cell_type": "code",
   "execution_count": null,
   "metadata": {},
   "outputs": [],
   "source": [
    "# observe random movement in the environment to pre-fill the experience \n",
    "# replay queue with memories\n",
    "agent.observe()"
   ]
  },
  {
   "cell_type": "code",
   "execution_count": null,
   "metadata": {},
   "outputs": [],
   "source": [
    "# create a callback for the training procedure to log metrics\n",
    "callback = BaseCallback(WEIGHTS_FILE)\n",
    "# train the agent with given parameters and the callback\n",
    "agent.train(callback=callback)\n",
    "# save the weights to disk after the training procedure\n",
    "agent.model.save_weights(WEIGHTS_FILE, overwrite=True)"
   ]
  },
  {
   "cell_type": "code",
   "execution_count": null,
   "metadata": {},
   "outputs": [],
   "source": [
    "callback.export(os.path.join(OUTPUT_DIR, 'training'))"
   ]
  },
  {
   "cell_type": "code",
   "execution_count": null,
   "metadata": {},
   "outputs": [],
   "source": [
    "# clear the keras session to remove the training model from memory\n",
    "K.clear_session()\n",
    "# create a validation agent with a monitor attatched\n",
    "agent = DeepQAgent(build_env(ENV_ID, monitor_dir=os.path.join(OUTPUT_DIR, 'play')))\n",
    "# load the trained weights into the validation agent\n",
    "agent.model.load_weights(WEIGHTS_FILE)"
   ]
  },
  {
   "cell_type": "code",
   "execution_count": null,
   "metadata": {},
   "outputs": [],
   "source": [
    "# run the agent through validation episodes\n",
    "df = agent.play()"
   ]
  },
  {
   "cell_type": "code",
   "execution_count": null,
   "metadata": {},
   "outputs": [],
   "source": [
    "df.head()"
   ]
  },
  {
   "cell_type": "code",
   "execution_count": null,
   "metadata": {},
   "outputs": [],
   "source": [
    "df.tail()"
   ]
  },
  {
   "cell_type": "code",
   "execution_count": null,
   "metadata": {},
   "outputs": [],
   "source": [
    "# plot the validation results and save the tables and figures to disk\n",
    "agent.plot_episode_rewards(os.path.join(OUTPUT_DIR, 'play'))"
   ]
  },
  {
   "cell_type": "markdown",
   "metadata": {},
   "source": [
    " "
   ]
  }
 ],
 "metadata": {
  "kernelspec": {
   "display_name": "Python 3",
   "language": "python",
   "name": "python3"
  },
  "language_info": {
   "codemirror_mode": {
    "name": "ipython",
    "version": 3
   },
   "file_extension": ".py",
   "mimetype": "text/x-python",
   "name": "python",
   "nbconvert_exporter": "python",
   "pygments_lexer": "ipython3",
   "version": "3.6.5"
  }
 },
 "nbformat": 4,
 "nbformat_minor": 2
}
