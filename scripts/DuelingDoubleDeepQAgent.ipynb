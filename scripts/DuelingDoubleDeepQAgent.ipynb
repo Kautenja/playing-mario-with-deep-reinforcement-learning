{
 "cells": [
  {
   "cell_type": "code",
   "execution_count": 1,
   "metadata": {},
   "outputs": [
    {
     "name": "stderr",
     "output_type": "stream",
     "text": [
      "Using TensorFlow backend.\n"
     ]
    }
   ],
   "source": [
    "import os\n",
    "import gym\n",
    "from keras import backend as K\n",
    "from keras import optimizers\n",
    "from _base import build_env, experiment_dir\n",
    "from _top_level import top_level\n",
    "top_level()"
   ]
  },
  {
   "cell_type": "code",
   "execution_count": 2,
   "metadata": {},
   "outputs": [],
   "source": [
    "from src.agents import DeepQAgent\n",
    "from src.base import AnnealingVariable\n",
    "from src.wrappers import wrap\n",
    "from src.models.losses import huber_loss\n",
    "from src.callbacks import BaseCallback\n",
    "from src.callbacks import JupyterCallback\n",
    "from src.utils import seed"
   ]
  },
  {
   "cell_type": "code",
   "execution_count": 3,
   "metadata": {},
   "outputs": [],
   "source": [
    "# set the random number seed\n",
    "seed(1)"
   ]
  },
  {
   "cell_type": "code",
   "execution_count": 4,
   "metadata": {},
   "outputs": [],
   "source": [
    "def make_environment():\n",
    "    env_id = 'PongNoFrameskip-v4'\n",
    "    env = wrap(gym.make(env_id), \n",
    "        cache_rewards=True,\n",
    "        noop_max=30,\n",
    "        frame_skip=4,\n",
    "        max_frame_skip=False,\n",
    "        image_size=(84, 84),\n",
    "        death_penalty=-1,\n",
    "        clip_rewards=True,\n",
    "        agent_history_length=4\n",
    "    )\n",
    "    env.unwrapped.seed(1)\n",
    "    output_dir = experiment_dir('../results', env_id, DeepQAgent.__name__)\n",
    "    return env, output_dir"
   ]
  },
  {
   "cell_type": "code",
   "execution_count": 5,
   "metadata": {},
   "outputs": [],
   "source": [
    "# make the environment and output directory \n",
    "env, output_dir = make_environment()"
   ]
  },
  {
   "cell_type": "code",
   "execution_count": 6,
   "metadata": {},
   "outputs": [
    {
     "data": {
      "text/plain": [
       "<FrameStackEnv<ClipRewardEnv<PenalizeDeathEnv<DownsampleEnv<FrameSkipEnv<FireResetEnv<NoopResetEnv<RewardCacheEnv<TimeLimit<AtariEnv<PongNoFrameskip-v4>>>>>>>>>>>"
      ]
     },
     "execution_count": 6,
     "metadata": {},
     "output_type": "execute_result"
    }
   ],
   "source": [
    "env"
   ]
  },
  {
   "cell_type": "code",
   "execution_count": 7,
   "metadata": {},
   "outputs": [
    {
     "data": {
      "text/plain": [
       "'../results/PongNoFrameskip-v4/DeepQAgent/2019-01-20_04-02'"
      ]
     },
     "execution_count": 7,
     "metadata": {},
     "output_type": "execute_result"
    }
   ],
   "source": [
    "output_dir"
   ]
  },
  {
   "cell_type": "code",
   "execution_count": 8,
   "metadata": {},
   "outputs": [],
   "source": [
    "# create a file to save the weights to\n",
    "weights_file = os.path.join(output_dir, 'weights.h5')"
   ]
  },
  {
   "cell_type": "code",
   "execution_count": null,
   "metadata": {},
   "outputs": [],
   "source": [
    "# create an agent\n",
    "agent = DeepQAgent(env,\n",
    "    render_mode='human',\n",
    "    replay_memory_size=750000,\n",
    "    prioritized_experience_replay=False,\n",
    "    discount_factor=0.99,\n",
    "    update_frequency=4,\n",
    "    optimizer=optimizers.Adam(lr=2e-5),\n",
    "    exploration_rate=AnnealingVariable(initial_value=1.0, final_value=0.01, steps=1e6),\n",
    "    loss=huber_loss,\n",
    "    target_update_freq=10000,\n",
    "    dueling_network=False,\n",
    ")\n",
    "agent"
   ]
  },
  {
   "cell_type": "code",
   "execution_count": null,
   "metadata": {},
   "outputs": [],
   "source": [
    "# observe random movement in the environment to pre-fill the experience \n",
    "# replay queue with memories\n",
    "agent.observe()"
   ]
  },
  {
   "cell_type": "code",
   "execution_count": null,
   "metadata": {},
   "outputs": [],
   "source": [
    "# create a callback for the training procedure to log metrics\n",
    "callback = BaseCallback(weights_file)\n",
    "plotter = JupyterCallback()\n",
    "# train the agent with given parameters and the callback\n",
    "agent.train(5e6, callback=[callback, plotter])\n",
    "# save the weights to disk after the training procedure\n",
    "agent.model.save_weights(weights_file, overwrite=True)"
   ]
  },
  {
   "cell_type": "code",
   "execution_count": null,
   "metadata": {},
   "outputs": [],
   "source": [
    "callback.export(os.path.join(output_dir, 'training'))"
   ]
  },
  {
   "cell_type": "code",
   "execution_count": null,
   "metadata": {},
   "outputs": [],
   "source": [
    "# clear the keras session to remove the training model from memory\n",
    "K.clear_session()\n",
    "# create a validation agent with a monitor attatched\n",
    "agent = DeepQAgent(wrap(gym.make(ENV_ID), death_penalty=-1))\n",
    "# load the trained weights into the validation agent\n",
    "agent.model.load_weights(weights_file)"
   ]
  },
  {
   "cell_type": "code",
   "execution_count": null,
   "metadata": {},
   "outputs": [],
   "source": [
    "# run the agent through validation episodes\n",
    "df = agent.play()"
   ]
  },
  {
   "cell_type": "code",
   "execution_count": null,
   "metadata": {},
   "outputs": [],
   "source": [
    "df.head()"
   ]
  },
  {
   "cell_type": "code",
   "execution_count": null,
   "metadata": {},
   "outputs": [],
   "source": [
    "df.tail()"
   ]
  },
  {
   "cell_type": "code",
   "execution_count": null,
   "metadata": {},
   "outputs": [],
   "source": [
    "# plot the validation results and save the tables and figures to disk\n",
    "agent.plot_episode_rewards(os.path.join(output_dir, 'play'))"
   ]
  },
  {
   "cell_type": "markdown",
   "metadata": {},
   "source": [
    " "
   ]
  }
 ],
 "metadata": {
  "kernelspec": {
   "display_name": "Python 3",
   "language": "python",
   "name": "python3"
  },
  "language_info": {
   "codemirror_mode": {
    "name": "ipython",
    "version": 3
   },
   "file_extension": ".py",
   "mimetype": "text/x-python",
   "name": "python",
   "nbconvert_exporter": "python",
   "pygments_lexer": "ipython3",
   "version": "3.5.2"
  }
 },
 "nbformat": 4,
 "nbformat_minor": 2
}
