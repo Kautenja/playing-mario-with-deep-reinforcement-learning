{
 "cells": [
  {
   "cell_type": "code",
   "execution_count": 1,
   "metadata": {},
   "outputs": [
    {
     "name": "stderr",
     "output_type": "stream",
     "text": [
      "Using TensorFlow backend.\n"
     ]
    }
   ],
   "source": [
    "import os\n",
    "import gym\n",
    "from gym_super_mario_bros.actions import SIMPLE_MOVEMENT\n",
    "from keras import backend as K\n",
    "from keras import optimizers\n",
    "from nes_py.wrappers import BinarySpaceToDiscreteSpaceEnv\n",
    "from _base import build_env, experiment_dir\n",
    "from _top_level import top_level\n",
    "top_level()"
   ]
  },
  {
   "cell_type": "code",
   "execution_count": 2,
   "metadata": {},
   "outputs": [],
   "source": [
    "from src.agents import DeepQAgent\n",
    "from src.base import AnnealingVariable\n",
    "from src.wrappers import wrap\n",
    "from src.models.losses import huber_loss\n",
    "from src.callbacks import BaseCallback\n",
    "from src.callbacks import JupyterCallback\n",
    "from src.utils import seed"
   ]
  },
  {
   "cell_type": "markdown",
   "metadata": {},
   "source": [
    "# Environment"
   ]
  },
  {
   "cell_type": "code",
   "execution_count": 3,
   "metadata": {},
   "outputs": [],
   "source": [
    "# set the global random number seed\n",
    "seed(1)"
   ]
  },
  {
   "cell_type": "code",
   "execution_count": 4,
   "metadata": {},
   "outputs": [
    {
     "data": {
      "text/plain": [
       "'../results/SuperMarioBros-Meta/DeepQAgent/2019-01-21_20-43'"
      ]
     },
     "execution_count": 4,
     "metadata": {},
     "output_type": "execute_result"
    }
   ],
   "source": [
    "# create the output directory for this experiment's data\n",
    "output_dir = experiment_dir('../results', 'SuperMarioBros-Meta', DeepQAgent.__name__)\n",
    "output_dir"
   ]
  },
  {
   "cell_type": "code",
   "execution_count": 5,
   "metadata": {},
   "outputs": [],
   "source": [
    "def make_environment(monitor: bool=False, validation: bool=False, seed: int=1) -> gym.Env:\n",
    "    \"\"\"\n",
    "    Make a gym environment for training, validation, or testing.\n",
    "\n",
    "    Args:\n",
    "        monitor: whether to apply a monitor to the environment\n",
    "        seed: an optional random number seed for the environment\n",
    "\n",
    "    Returns:\n",
    "        a build gym environment with necessary wrappers applied\n",
    "\n",
    "    \"\"\"\n",
    "    # make the environment\n",
    "    if validation:\n",
    "        env = gym.make('SuperMarioBros-v0')\n",
    "    else:\n",
    "        env = gym.make('SuperMarioBrosRandomStages-v0')\n",
    "    # wrap the environment with an action space reducer\n",
    "    env = BinarySpaceToDiscreteSpaceEnv(env, SIMPLE_MOVEMENT)\n",
    "    # wrap the environment with transformers\n",
    "    env = wrap(env,\n",
    "        cache_rewards=True,\n",
    "        noop_max=30,\n",
    "        frame_skip=4,\n",
    "        max_frame_skip=False,\n",
    "        image_size=(84, 84),\n",
    "        death_penalty=None,\n",
    "        clip_rewards=False,\n",
    "        agent_history_length=4\n",
    "    )\n",
    "    # monitor the video / data feed from the environment\n",
    "    if monitor:\n",
    "        monitor_dir = os.path.join(output_dir, 'monitor')\n",
    "        env = gym.wrappers.Monitor(env, monitor_dir, force=True)\n",
    "    # set the RNG seed for the environment\n",
    "    if seed is not None:\n",
    "        env.unwrapped.seed(seed)\n",
    "\n",
    "    return env"
   ]
  },
  {
   "cell_type": "code",
   "execution_count": 6,
   "metadata": {},
   "outputs": [],
   "source": [
    "env = make_environment()"
   ]
  },
  {
   "cell_type": "markdown",
   "metadata": {},
   "source": [
    "# Training"
   ]
  },
  {
   "cell_type": "code",
   "execution_count": 7,
   "metadata": {},
   "outputs": [],
   "source": [
    "# create a file to save the weights to\n",
    "weights_file = os.path.join(output_dir, 'weights.h5')"
   ]
  },
  {
   "cell_type": "code",
   "execution_count": 8,
   "metadata": {},
   "outputs": [
    {
     "data": {
      "text/plain": [
       "DeepQAgent(\n",
       "    env=<FrameStackEnv<DownsampleEnv<FrameSkipEnv<NoopResetEnv<RewardCacheEnv<BinarySpaceToDiscreteSpaceEnv<TimeLimit<SuperMarioBrosRandomStagesEnv<SuperMarioBrosRandomStages-v0>>>>>>>>>,\n",
       "    render_mode='human'\n",
       "    replay_memory_size=650000,\n",
       "    prioritized_experience_replay=False,\n",
       "    discount_factor=0.99,\n",
       "    update_frequency=4,\n",
       "    optimizer=<keras.optimizers.Adam object at 0x7f995007aa90>,\n",
       "    exploration_rate=AnnealingVariable(initial_value=1.0, final_value=0.01, steps=1000000),\n",
       "    loss=huber_loss,\n",
       "    target_update_freq=10000,\n",
       "    dueling_network=False\n",
       ")"
      ]
     },
     "execution_count": 8,
     "metadata": {},
     "output_type": "execute_result"
    }
   ],
   "source": [
    "# create an agent\n",
    "agent = DeepQAgent(env,\n",
    "    render_mode='human',\n",
    "    replay_memory_size=650000,\n",
    "    prioritized_experience_replay=False,\n",
    "    discount_factor=0.99,\n",
    "    update_frequency=4,\n",
    "    optimizer=optimizers.Adam(lr=2e-5),\n",
    "    exploration_rate=AnnealingVariable(initial_value=1.0, final_value=0.01, steps=1e6),\n",
    "    loss=huber_loss,\n",
    "    target_update_freq=10000,\n",
    "    dueling_network=False,\n",
    ")\n",
    "agent"
   ]
  },
  {
   "cell_type": "code",
   "execution_count": 9,
   "metadata": {},
   "outputs": [
    {
     "name": "stdout",
     "output_type": "stream",
     "text": [
      "__________________________________________________________________________________________________\n",
      "Layer (type)                    Output Shape         Param #     Connected to                     \n",
      "==================================================================================================\n",
      "input_1 (InputLayer)            (None, 84, 84, 4)    0                                            \n",
      "__________________________________________________________________________________________________\n",
      "lambda_1 (Lambda)               (None, 84, 84, 4)    0           input_1[0][0]                    \n",
      "__________________________________________________________________________________________________\n",
      "conv2d_1 (Conv2D)               (None, 20, 20, 32)   8224        lambda_1[0][0]                   \n",
      "__________________________________________________________________________________________________\n",
      "re_lu_1 (ReLU)                  (None, 20, 20, 32)   0           conv2d_1[0][0]                   \n",
      "__________________________________________________________________________________________________\n",
      "conv2d_2 (Conv2D)               (None, 9, 9, 64)     32832       re_lu_1[0][0]                    \n",
      "__________________________________________________________________________________________________\n",
      "re_lu_2 (ReLU)                  (None, 9, 9, 64)     0           conv2d_2[0][0]                   \n",
      "__________________________________________________________________________________________________\n",
      "conv2d_3 (Conv2D)               (None, 7, 7, 64)     36928       re_lu_2[0][0]                    \n",
      "__________________________________________________________________________________________________\n",
      "re_lu_3 (ReLU)                  (None, 7, 7, 64)     0           conv2d_3[0][0]                   \n",
      "__________________________________________________________________________________________________\n",
      "flatten_1 (Flatten)             (None, 3136)         0           re_lu_3[0][0]                    \n",
      "__________________________________________________________________________________________________\n",
      "dense_1 (Dense)                 (None, 512)          1606144     flatten_1[0][0]                  \n",
      "__________________________________________________________________________________________________\n",
      "re_lu_4 (ReLU)                  (None, 512)          0           dense_1[0][0]                    \n",
      "__________________________________________________________________________________________________\n",
      "dense_2 (Dense)                 (None, 7)            3591        re_lu_4[0][0]                    \n",
      "__________________________________________________________________________________________________\n",
      "input_2 (InputLayer)            (None, 7)            0                                            \n",
      "__________________________________________________________________________________________________\n",
      "multiply_1 (Multiply)           (None, 7)            0           dense_2[0][0]                    \n",
      "                                                                 input_2[0][0]                    \n",
      "==================================================================================================\n",
      "Total params: 1,687,719\n",
      "Trainable params: 1,687,719\n",
      "Non-trainable params: 0\n",
      "__________________________________________________________________________________________________\n"
     ]
    }
   ],
   "source": [
    "agent.model.summary()"
   ]
  },
  {
   "cell_type": "code",
   "execution_count": 10,
   "metadata": {},
   "outputs": [
    {
     "name": "stderr",
     "output_type": "stream",
     "text": [
      "898frame [00:06, 131.93frame/s]                      \n"
     ]
    }
   ],
   "source": [
    "# observe random movement to pre-fill replay experience queue\n",
    "agent.observe()"
   ]
  },
  {
   "cell_type": "code",
   "execution_count": 11,
   "metadata": {},
   "outputs": [
    {
     "name": "stderr",
     "output_type": "stream",
     "text": [
      "754frame [00:08, 81.06frame/s, loss=29.2, score=317]                           \n"
     ]
    }
   ],
   "source": [
    "# create a callback for the training procedure to log weights and metrics\n",
    "callback = BaseCallback(weights_file)\n",
    "# create a callback for the training procedure to plot in Jupyter\n",
    "# plotter = JupyterCallback()\n",
    "# train the agent with given parameters and callbacks\n",
    "agent.train(6e6, callback=callback)\n",
    "# save the weights to disk after the training procedure\n",
    "agent.model.save_weights(weights_file, overwrite=True)"
   ]
  },
  {
   "cell_type": "code",
   "execution_count": 12,
   "metadata": {},
   "outputs": [
    {
     "data": {
      "image/png": "[encoded data removed]",
      "text/plain": [
       "<Figure size 864x360 with 2 Axes>"
      ]
     },
     "metadata": {},
     "output_type": "display_data"
    }
   ],
   "source": [
    "# export plot data from the base callback to disk\n",
    "callback.export(os.path.join(output_dir, 'training'))"
   ]
  },
  {
   "cell_type": "code",
   "execution_count": 13,
   "metadata": {},
   "outputs": [],
   "source": [
    "# close the training environment\n",
    "env.close()\n",
    "# clear the keras session to remove the training model from memory\n",
    "K.clear_session()"
   ]
  },
  {
   "cell_type": "markdown",
   "metadata": {},
   "source": [
    "# Validation"
   ]
  },
  {
   "cell_type": "code",
   "execution_count": 14,
   "metadata": {},
   "outputs": [],
   "source": [
    "# create an environment for validation with a monitor attached\n",
    "env = make_environment(validation=True)\n",
    "# create a validation agent\n",
    "agent = DeepQAgent(env, render_mode='human')\n",
    "# load the trained weights into the validation agent\n",
    "agent.model.load_weights(weights_file)"
   ]
  },
  {
   "cell_type": "code",
   "execution_count": 15,
   "metadata": {
    "scrolled": true
   },
   "outputs": [
    {
     "name": "stderr",
     "output_type": "stream",
     "text": [
      "100%|██████████| 10/10 [00:13<00:00,  1.11s/game, score=731]    \n"
     ]
    }
   ],
   "source": [
    "# run the agent through validation episodes\n",
    "df = agent.play()"
   ]
  },
  {
   "cell_type": "code",
   "execution_count": 16,
   "metadata": {},
   "outputs": [
    {
     "data": {
      "text/html": [
       "<div>\n",
       "<style scoped>\n",
       "    .dataframe tbody tr th:only-of-type {\n",
       "        vertical-align: middle;\n",
       "    }\n",
       "\n",
       "    .dataframe tbody tr th {\n",
       "        vertical-align: top;\n",
       "    }\n",
       "\n",
       "    .dataframe thead th {\n",
       "        text-align: right;\n",
       "    }\n",
       "</style>\n",
       "<table border=\"1\" class=\"dataframe\">\n",
       "  <thead>\n",
       "    <tr style=\"text-align: right;\">\n",
       "      <th></th>\n",
       "      <th>Score</th>\n",
       "    </tr>\n",
       "    <tr>\n",
       "      <th>Episode</th>\n",
       "      <th></th>\n",
       "    </tr>\n",
       "  </thead>\n",
       "  <tbody>\n",
       "    <tr>\n",
       "      <th>0</th>\n",
       "      <td>734</td>\n",
       "    </tr>\n",
       "    <tr>\n",
       "      <th>1</th>\n",
       "      <td>731</td>\n",
       "    </tr>\n",
       "    <tr>\n",
       "      <th>2</th>\n",
       "      <td>728</td>\n",
       "    </tr>\n",
       "    <tr>\n",
       "      <th>3</th>\n",
       "      <td>1036</td>\n",
       "    </tr>\n",
       "    <tr>\n",
       "      <th>4</th>\n",
       "      <td>731</td>\n",
       "    </tr>\n",
       "  </tbody>\n",
       "</table>\n",
       "</div>"
      ],
      "text/plain": [
       "         Score\n",
       "Episode       \n",
       "0          734\n",
       "1          731\n",
       "2          728\n",
       "3         1036\n",
       "4          731"
      ]
     },
     "execution_count": 16,
     "metadata": {},
     "output_type": "execute_result"
    }
   ],
   "source": [
    "df.head()"
   ]
  },
  {
   "cell_type": "code",
   "execution_count": 17,
   "metadata": {},
   "outputs": [
    {
     "data": {
      "text/html": [
       "<div>\n",
       "<style scoped>\n",
       "    .dataframe tbody tr th:only-of-type {\n",
       "        vertical-align: middle;\n",
       "    }\n",
       "\n",
       "    .dataframe tbody tr th {\n",
       "        vertical-align: top;\n",
       "    }\n",
       "\n",
       "    .dataframe thead th {\n",
       "        text-align: right;\n",
       "    }\n",
       "</style>\n",
       "<table border=\"1\" class=\"dataframe\">\n",
       "  <thead>\n",
       "    <tr style=\"text-align: right;\">\n",
       "      <th></th>\n",
       "      <th>Score</th>\n",
       "    </tr>\n",
       "    <tr>\n",
       "      <th>Episode</th>\n",
       "      <th></th>\n",
       "    </tr>\n",
       "  </thead>\n",
       "  <tbody>\n",
       "    <tr>\n",
       "      <th>5</th>\n",
       "      <td>1060</td>\n",
       "    </tr>\n",
       "    <tr>\n",
       "      <th>6</th>\n",
       "      <td>736</td>\n",
       "    </tr>\n",
       "    <tr>\n",
       "      <th>7</th>\n",
       "      <td>734</td>\n",
       "    </tr>\n",
       "    <tr>\n",
       "      <th>8</th>\n",
       "      <td>732</td>\n",
       "    </tr>\n",
       "    <tr>\n",
       "      <th>9</th>\n",
       "      <td>731</td>\n",
       "    </tr>\n",
       "  </tbody>\n",
       "</table>\n",
       "</div>"
      ],
      "text/plain": [
       "         Score\n",
       "Episode       \n",
       "5         1060\n",
       "6          736\n",
       "7          734\n",
       "8          732\n",
       "9          731"
      ]
     },
     "execution_count": 17,
     "metadata": {},
     "output_type": "execute_result"
    }
   ],
   "source": [
    "df.tail()"
   ]
  },
  {
   "cell_type": "code",
   "execution_count": 18,
   "metadata": {},
   "outputs": [
    {
     "data": {
      "image/png": "[encoded data removed]",
      "text/plain": [
       "<Figure size 432x288 with 1 Axes>"
      ]
     },
     "metadata": {},
     "output_type": "display_data"
    }
   ],
   "source": [
    "# plot the validation results and save the tables and figures to disk\n",
    "agent.plot_episode_rewards(os.path.join(output_dir, 'play'))"
   ]
  },
  {
   "cell_type": "code",
   "execution_count": 19,
   "metadata": {},
   "outputs": [],
   "source": [
    "env.close()"
   ]
  },
  {
   "cell_type": "markdown",
   "metadata": {},
   "source": [
    " "
   ]
  }
 ],
 "metadata": {
  "kernelspec": {
   "display_name": "Python 3",
   "language": "python",
   "name": "python3"
  },
  "language_info": {
   "codemirror_mode": {
    "name": "ipython",
    "version": 3
   },
   "file_extension": ".py",
   "mimetype": "text/x-python",
   "name": "python",
   "nbconvert_exporter": "python",
   "pygments_lexer": "ipython3",
   "version": "3.5.2"
  }
 },
 "nbformat": 4,
 "nbformat_minor": 2
}
