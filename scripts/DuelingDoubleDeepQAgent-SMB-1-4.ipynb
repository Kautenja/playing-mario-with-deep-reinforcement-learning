{
 "cells": [
  {
   "cell_type": "code",
   "execution_count": null,
   "metadata": {},
   "outputs": [],
   "source": [
    "import os\n",
    "import gym\n",
    "from gym_super_mario_bros.actions import SIMPLE_MOVEMENT\n",
    "from keras import backend as K\n",
    "from keras import optimizers\n",
    "from nes_py.wrappers import BinarySpaceToDiscreteSpaceEnv\n",
    "from _base import build_env, experiment_dir\n",
    "from _top_level import top_level\n",
    "top_level()"
   ]
  },
  {
   "cell_type": "code",
   "execution_count": null,
   "metadata": {},
   "outputs": [],
   "source": [
    "from src.agents import DeepQAgent\n",
    "from src.base import AnnealingVariable\n",
    "from src.wrappers import wrap\n",
    "from src.models.losses import huber_loss\n",
    "from src.callbacks import BaseCallback\n",
    "from src.callbacks import JupyterCallback\n",
    "from src.utils import seed"
   ]
  },
  {
   "cell_type": "markdown",
   "metadata": {},
   "source": [
    "# Environment"
   ]
  },
  {
   "cell_type": "code",
   "execution_count": null,
   "metadata": {},
   "outputs": [],
   "source": [
    "env_id = 'SuperMarioBros-1-4-v0'\n",
    "env_id"
   ]
  },
  {
   "cell_type": "code",
   "execution_count": null,
   "metadata": {},
   "outputs": [],
   "source": [
    "# set the global random number seed\n",
    "seed(1)"
   ]
  },
  {
   "cell_type": "code",
   "execution_count": null,
   "metadata": {},
   "outputs": [],
   "source": [
    "# create the output directory for this experiment's data\n",
    "output_dir = experiment_dir('../results', env_id, DeepQAgent.__name__)\n",
    "output_dir"
   ]
  },
  {
   "cell_type": "code",
   "execution_count": null,
   "metadata": {},
   "outputs": [],
   "source": [
    "def make_environment(monitor: bool=False, seed: int=1) -> gym.Env:\n",
    "    \"\"\"\n",
    "    Make a gym environment for training, validation, or testing.\n",
    "\n",
    "    Args:\n",
    "        monitor: whether to apply a monitor to the environment\n",
    "        seed: an optional random number seed for the environment\n",
    "\n",
    "    Returns:\n",
    "        a build gym environment with necessary wrappers applied\n",
    "\n",
    "    \"\"\"\n",
    "    # make the environment\n",
    "    env = gym.make(env_id)\n",
    "    # wrap the environment with an action space reducer\n",
    "    env = BinarySpaceToDiscreteSpaceEnv(env, SIMPLE_MOVEMENT)\n",
    "    # wrap the environment with transformers\n",
    "    env = wrap(env,\n",
    "        cache_rewards=True,\n",
    "        noop_max=30,\n",
    "        frame_skip=4,\n",
    "        max_frame_skip=False,\n",
    "        image_size=(84, 84),\n",
    "        death_penalty=None,\n",
    "        clip_rewards=False,\n",
    "        agent_history_length=4\n",
    "    )\n",
    "    # monitor the video / data feed from the environment\n",
    "    if monitor:\n",
    "        monitor_dir = os.path.join(output_dir, 'monitor')\n",
    "        env = gym.wrappers.Monitor(env, monitor_dir, force=True)\n",
    "    # set the RNG seed for the environment\n",
    "    if seed is not None:\n",
    "        env.unwrapped.seed(seed)\n",
    "\n",
    "    return env"
   ]
  },
  {
   "cell_type": "code",
   "execution_count": null,
   "metadata": {},
   "outputs": [],
   "source": [
    "env = make_environment()"
   ]
  },
  {
   "cell_type": "markdown",
   "metadata": {},
   "source": [
    "# Training"
   ]
  },
  {
   "cell_type": "code",
   "execution_count": null,
   "metadata": {},
   "outputs": [],
   "source": [
    "# create a file to save the weights to\n",
    "weights_file = os.path.join(output_dir, 'weights.h5')"
   ]
  },
  {
   "cell_type": "code",
   "execution_count": null,
   "metadata": {},
   "outputs": [],
   "source": [
    "# create an agent\n",
    "agent = DeepQAgent(env,\n",
    "    replay_memory_size=750000,\n",
    "    prioritized_experience_replay=False,\n",
    "    discount_factor=0.99,\n",
    "    update_frequency=4,\n",
    "    optimizer=optimizers.Adam(lr=2e-5),\n",
    "    exploration_rate=AnnealingVariable(initial_value=1.0, final_value=0.01, steps=1e6),\n",
    "    loss=huber_loss,\n",
    "    target_update_freq=10000,\n",
    "    dueling_network=False,\n",
    ")\n",
    "agent"
   ]
  },
  {
   "cell_type": "code",
   "execution_count": null,
   "metadata": {},
   "outputs": [],
   "source": [
    "agent.model.summary()"
   ]
  },
  {
   "cell_type": "code",
   "execution_count": null,
   "metadata": {},
   "outputs": [],
   "source": [
    "# observe random movement to pre-fill replay experience queue\n",
    "agent.observe()"
   ]
  },
  {
   "cell_type": "code",
   "execution_count": null,
   "metadata": {},
   "outputs": [],
   "source": [
    "# create a callback for the training procedure to log weights and metrics\n",
    "callback = BaseCallback(weights_file)\n",
    "# create a callback for the training procedure to plot in Jupyter\n",
    "plotter = JupyterCallback()\n",
    "# train the agent with given parameters and callbacks\n",
    "agent.train(6e6, callback=[callback, plotter])\n",
    "# save the weights to disk after the training procedure\n",
    "agent.model.save_weights(weights_file, overwrite=True)"
   ]
  },
  {
   "cell_type": "code",
   "execution_count": null,
   "metadata": {},
   "outputs": [],
   "source": [
    "# export plot data from the base callback to disk\n",
    "callback.export(os.path.join(output_dir, 'training'))"
   ]
  },
  {
   "cell_type": "code",
   "execution_count": null,
   "metadata": {},
   "outputs": [],
   "source": [
    "# close the training environment\n",
    "env.close()\n",
    "# clear the keras session to remove the training model from memory\n",
    "K.clear_session()"
   ]
  },
  {
   "cell_type": "markdown",
   "metadata": {},
   "source": [
    "# Validation"
   ]
  },
  {
   "cell_type": "code",
   "execution_count": null,
   "metadata": {},
   "outputs": [],
   "source": [
    "# create an environment for validation with a monitor attached\n",
    "env = make_environment()\n",
    "# create a validation agent\n",
    "agent = DeepQAgent(env)\n",
    "# load the trained weights into the validation agent\n",
    "agent.model.load_weights(weights_file)"
   ]
  },
  {
   "cell_type": "code",
   "execution_count": null,
   "metadata": {
    "scrolled": true
   },
   "outputs": [],
   "source": [
    "# run the agent through validation episodes\n",
    "df = agent.play()"
   ]
  },
  {
   "cell_type": "code",
   "execution_count": null,
   "metadata": {},
   "outputs": [],
   "source": [
    "df.head()"
   ]
  },
  {
   "cell_type": "code",
   "execution_count": null,
   "metadata": {},
   "outputs": [],
   "source": [
    "df.tail()"
   ]
  },
  {
   "cell_type": "code",
   "execution_count": null,
   "metadata": {},
   "outputs": [],
   "source": [
    "# plot the validation results and save the tables and figures to disk\n",
    "agent.plot_episode_rewards(os.path.join(output_dir, 'play'))"
   ]
  },
  {
   "cell_type": "code",
   "execution_count": null,
   "metadata": {},
   "outputs": [],
   "source": [
    "env.close()"
   ]
  },
  {
   "cell_type": "markdown",
   "metadata": {},
   "source": [
    " "
   ]
  }
 ],
 "metadata": {
  "kernelspec": {
   "display_name": "Python 3",
   "language": "python",
   "name": "python3"
  },
  "language_info": {
   "codemirror_mode": {
    "name": "ipython",
    "version": 3
   },
   "file_extension": ".py",
   "mimetype": "text/x-python",
   "name": "python",
   "nbconvert_exporter": "python",
   "pygments_lexer": "ipython3",
   "version": "3.5.2"
  }
 },
 "nbformat": 4,
 "nbformat_minor": 2
}
