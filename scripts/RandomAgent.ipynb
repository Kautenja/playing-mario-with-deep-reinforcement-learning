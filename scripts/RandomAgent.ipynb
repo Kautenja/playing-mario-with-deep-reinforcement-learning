{
 "cells": [
  {
   "cell_type": "code",
   "execution_count": 1,
   "metadata": {},
   "outputs": [],
   "source": [
    "from _base import build_env\n",
    "import _top_level"
   ]
  },
  {
   "cell_type": "code",
   "execution_count": 2,
   "metadata": {},
   "outputs": [
    {
     "name": "stderr",
     "output_type": "stream",
     "text": [
      "Using TensorFlow backend.\n"
     ]
    }
   ],
   "source": [
    "from src.agents import RandomAgent\n",
    "from src.utils import seed"
   ]
  },
  {
   "cell_type": "code",
   "execution_count": 3,
   "metadata": {},
   "outputs": [],
   "source": [
    "# set the random number seed\n",
    "seed(1)"
   ]
  },
  {
   "cell_type": "code",
   "execution_count": 4,
   "metadata": {},
   "outputs": [],
   "source": [
    "env = build_env('SuperMarioBros-1-4-v0', RandomAgent, 'results', monitor=True)"
   ]
  },
  {
   "cell_type": "code",
   "execution_count": 5,
   "metadata": {},
   "outputs": [],
   "source": [
    "# create an agent\n",
    "agent = RandomAgent(env, render_mode='human')"
   ]
  },
  {
   "cell_type": "code",
   "execution_count": 6,
   "metadata": {},
   "outputs": [
    {
     "name": "stderr",
     "output_type": "stream",
     "text": [
      "100%|██████████| 100/100 [00:38<00:00,  2.57game/s]\n"
     ]
    },
    {
     "data": {
      "text/plain": [
       "array([165., 169., 166., 366., 159., 165., 486., 161., 856., 378., 471.,\n",
       "       165., 162., 161., 164., 389., 162., 164., 368., 163., 164., 362.,\n",
       "       163., 468., 376., 646., 172., 383., 165., 944., 165., 385., 153.,\n",
       "       385., 374., 168., 166., 381., 388., 379., 164., 370., 482., 166.,\n",
       "       165., 162., 385., 164., 164., 164., 381., 164., 389., 165., 163.,\n",
       "       370., 390., 162., 159., 162., 387., 487., 169., 478., 389., 384.,\n",
       "       167., 171., 160., 162., 168., 375., 163., 472., 377., 170., 387.,\n",
       "       168., 381., 163., 380., 170., 166., 164., 390., 161., 161., 380.,\n",
       "       377., 387., 166., 160., 167., 163., 164., 164., 377., 166., 161.,\n",
       "       382.])"
      ]
     },
     "execution_count": 6,
     "metadata": {},
     "output_type": "execute_result"
    }
   ],
   "source": [
    "agent.play()"
   ]
  },
  {
   "cell_type": "code",
   "execution_count": null,
   "metadata": {},
   "outputs": [],
   "source": []
  }
 ],
 "metadata": {
  "kernelspec": {
   "display_name": "Python 3",
   "language": "python",
   "name": "python3"
  },
  "language_info": {
   "codemirror_mode": {
    "name": "ipython",
    "version": 3
   },
   "file_extension": ".py",
   "mimetype": "text/x-python",
   "name": "python",
   "nbconvert_exporter": "python",
   "pygments_lexer": "ipython3",
   "version": "3.5.2"
  }
 },
 "nbformat": 4,
 "nbformat_minor": 2
}
