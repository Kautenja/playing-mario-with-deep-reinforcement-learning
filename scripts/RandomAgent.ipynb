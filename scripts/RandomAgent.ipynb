{
 "cells": [
  {
   "cell_type": "code",
   "execution_count": 1,
   "metadata": {},
   "outputs": [],
   "source": [
    "from _base import build_env\n",
    "import _top_level"
   ]
  },
  {
   "cell_type": "code",
   "execution_count": 2,
   "metadata": {},
   "outputs": [
    {
     "name": "stderr",
     "output_type": "stream",
     "text": [
      "Using TensorFlow backend.\n"
     ]
    }
   ],
   "source": [
    "from src.agents import RandomAgent\n",
    "from src.utils import seed"
   ]
  },
  {
   "cell_type": "code",
   "execution_count": 3,
   "metadata": {},
   "outputs": [],
   "source": [
    "# set the random number seed\n",
    "seed(1)"
   ]
  },
  {
   "cell_type": "code",
   "execution_count": 4,
   "metadata": {},
   "outputs": [],
   "source": [
    "# build the environment and experiment directory\n",
    "env, experiment_dir = build_env('SuperMarioBros-4-4-v0', RandomAgent, '../results', monitor=True)"
   ]
  },
  {
   "cell_type": "code",
   "execution_count": 5,
   "metadata": {},
   "outputs": [],
   "source": [
    "# create an agent\n",
    "agent = RandomAgent(env, render_mode='human')"
   ]
  },
  {
   "cell_type": "code",
   "execution_count": 6,
   "metadata": {},
   "outputs": [
    {
     "name": "stderr",
     "output_type": "stream",
     "text": [
      "100%|██████████| 100/100 [00:48<00:00,  2.08game/s]\n"
     ]
    },
    {
     "data": {
      "text/plain": [
       "array([ 880.,   65.,   74.,   70.,   75.,   57.,  141.,   72.,   70.,\n",
       "        137., 1804.,  902.,  829.,  144.,   78.,  131.,  135.,   69.,\n",
       "        884.,   73.,   73.,   63.,  135.,  134.,   75.,  870.,  133.,\n",
       "        128.,  134.,   71.,  133.,   81.,  134.,   82., 1811.,  131.,\n",
       "         72., 1527.,   67.,  135.,   68.,   74.,   72.,  135.,  560.,\n",
       "        131.,  847.,   70.,   69.,   66.,   73.,   68., 1757.,   75.,\n",
       "         77.,  123.,   71.,   63.,   69.,  130.,  129.,   75.,   68.,\n",
       "         73.,  133.,   76.,   73.,   70.,   72.,  136.,   69.,  128.,\n",
       "        886.,  136.,  130.,  135.,   69.,  135.,   74.,   71.,   77.,\n",
       "        133.,  887.,   67.,  133.,   73.,   76.,  854., 1545.,   71.,\n",
       "        864.,   69.,  137.,   72.,   65.,   71.,  847.,   73.,  863.,\n",
       "         71.])"
      ]
     },
     "execution_count": 6,
     "metadata": {},
     "output_type": "execute_result"
    }
   ],
   "source": [
    "# play the environment\n",
    "agent.play(games=100)"
   ]
  },
  {
   "cell_type": "markdown",
   "metadata": {},
   "source": [
    " "
   ]
  }
 ],
 "metadata": {
  "kernelspec": {
   "display_name": "Python 3",
   "language": "python",
   "name": "python3"
  },
  "language_info": {
   "codemirror_mode": {
    "name": "ipython",
    "version": 3
   },
   "file_extension": ".py",
   "mimetype": "text/x-python",
   "name": "python",
   "nbconvert_exporter": "python",
   "pygments_lexer": "ipython3",
   "version": "3.5.2"
  }
 },
 "nbformat": 4,
 "nbformat_minor": 2
}
